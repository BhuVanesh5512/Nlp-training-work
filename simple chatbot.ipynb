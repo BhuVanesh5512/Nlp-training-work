{
 "cells": [
  {
   "cell_type": "code",
   "execution_count": 5,
   "metadata": {},
   "outputs": [
    {
     "name": "stderr",
     "output_type": "stream",
     "text": [
      "[nltk_data] Downloading package punkt_tab to C:\\Users\\P.BHUVANESH\n",
      "[nltk_data]     CHOWDARY\\AppData\\Roaming\\nltk_data...\n",
      "[nltk_data]   Unzipping tokenizers\\punkt_tab.zip.\n"
     ]
    }
   ],
   "source": [
    "import nltk\n",
    "import random\n",
    "nltk.download(\"punkt_tab\")\n",
    "from nltk.stem import PorterStemmer\n",
    "stem=PorterStemmer()"
   ]
  },
  {
   "cell_type": "code",
   "execution_count": null,
   "metadata": {},
   "outputs": [],
   "source": [
    "data={\n",
    "       # Define chatbot intents and responses\n",
    "    \"greetings\": {\n",
    "        \"hello\": \"Hello! How can I assist you today?\",\n",
    "        \"hi\": \"Hi there! How may I help you?\",\n",
    "        \"hey\": \"Hey! What can I do for you?\"\n",
    "    },\n",
    "    \"farewells\": {\n",
    "        \"bye\": \"Goodbye! Have a great day!\",\n",
    "        \"see you\": \"See you later! Take care.\",\n",
    "        \"goodnight\": \"Goodnight! Sleep well.\"\n",
    "    },\n",
    "    \"small_talk\": {\n",
    "        \"how are you\": \"I'm just a chatbot, but I'm feeling great! How about you?\",\n",
    "        \"what's up\": \"Not much, just here to help! What’s up with you?\"\n",
    "    },\n",
    "    \"information\": {\n",
    "        \"what is your name\": \"I am ChatBot, your virtual assistant.\",\n",
    "        \"how does this work\": \"I analyze your queries and provide relevant information.\"\n",
    "    },\n",
    "    \"fun\": {\n",
    "        \"tell me a joke\": \"Why don’t skeletons fight each other? Because they don’t have the guts!\",\n",
    "        \"tell me a fact\": \"Did you know? Honey never spoils. Archaeologists have found pots of honey in ancient tombs that are over 3000\"\n",
    "        }\n",
    "}"
   ]
  },
  {
   "cell_type": "code",
   "execution_count": 6,
   "metadata": {},
   "outputs": [
    {
     "name": "stderr",
     "output_type": "stream",
     "text": [
      "[nltk_data] Downloading package punkt_tab to C:\\Users\\P.BHUVANESH\n",
      "[nltk_data]     CHOWDARY\\AppData\\Roaming\\nltk_data...\n",
      "[nltk_data]   Package punkt_tab is already up-to-date!\n"
     ]
    },
    {
     "name": "stdout",
     "output_type": "stream",
     "text": [
      "Chatbot: Hello! I'm your friendly chatbot. Type 'exit' to end the conversation.\n",
      "Chatbot: Hi there!\n",
      "Chatbot: I'm just a bot, but I'm doing great!\n",
      "Chatbot: I'm not sure how to respond to that. Could you rephrase that?\n",
      "Chatbot: Not much, just here to chat with you!\n",
      "Chatbot: I'm not sure how to respond to that. Could you rephrase that?\n",
      "Chatbot: See you later!\n",
      "Chatbot: I'm not sure how to respond to that. Could you rephrase that?\n",
      "Chatbot: I'm not sure how to respond to that. Could you rephrase that?\n",
      "Chatbot: Goodbye! Have a great day!\n"
     ]
    }
   ],
   "source": [
    "import random # Generating random numbers\n",
    "import nltk  # NLP module\n",
    "from nltk.stem import PorterStemmer\n",
    "# Initialize NLTK and download required resources\n",
    "nltk.download('punkt_tab')\n",
    "\n",
    "stemmer = PorterStemmer()\n",
    " \n",
    "data = {\n",
    "    \"greetings\": [\"hello\", \"hi\", \"hey\", \"howdy\", \"hola\", \"good morning\", \"good afternoon\", \"good evening\", \"what's up\", \"yo\"],\n",
    "    \"responses\": [\"Hello!\", \"Hi there!\", \"Hey!\", \"Greetings!\", \"How can I help you?\", \"Nice to see you!\", \"Hi, how are you?\", \"Hey, what's going on?\"],\n",
    "    \"farewells\": [\"bye\", \"goodbye\", \"see you later\", \"take care\", \"farewell\", \"have a good day\", \"catch you later\"],\n",
    "    \"farewell_responses\": [\"Goodbye!\", \"See you later!\", \"Take care!\", \"Have a great day!\", \"Bye! Come back soon!\", \"Farewell!\"],\n",
    "    \"questions\": [\"how are you\", \"what's your name\", \"what can you do\", \"who created you\", \"what's the weather today\"],\n",
    "    \"question_responses\": [\"I'm just a bot, but I'm doing great!\", \"I'm your friendly chatbot!\", \"I can answer questions and chat with you.\", \"I was created to test.\", \"I don't know the weather, but you can check online!\"],\n",
    "    \"small_talk\": [\"tell me a joke\", \"what's new\", \"how's it going\", \"what are you up to\"],\n",
    "    \"small_talk_responses\": [\"Why don't scientists trust atoms? Because they make up everything!\", \"Not much, just here to chat with you!\", \"It's going well, thanks for asking!\", \"Just waiting to help you out!\"],\n",
    "}\n",
    "\n",
    "# Map intent categories to their corresponding response categories\n",
    "INTENT_RESPONSE_MAP = {\n",
    "    \"greetings\": \"responses\",\n",
    "    \"farewells\": \"farewell_responses\",\n",
    "    \"questions\": \"question_responses\",\n",
    "    \"small_talk\": \"small_talk_responses\"\n",
    "}\n",
    "def preprocess(sentence):\n",
    "    \"\"\"Tokenize and stem the input sentence\"\"\"\n",
    "    tokens = nltk.word_tokenize(sentence.lower())\n",
    "    return [stemmer.stem(token) for token in tokens]\n",
    "\n",
    "def get_response(user_input):\n",
    "    \"\"\"Return a response based on the user's input\"\"\"\n",
    "    processed_input = preprocess(user_input)\n",
    "\n",
    "    # Check all pattern categories\n",
    "    for intent_category, response_category in INTENT_RESPONSE_MAP.items():\n",
    "        for pattern in data[intent_category]:\n",
    "            processed_pattern = preprocess(pattern)\n",
    "            if set(processed_pattern).issubset(set(processed_input)):  # More accurate matching\n",
    "                return random.choice(data[response_category])\n",
    "            \n",
    "    # Fallback response for unknown inputs\n",
    "    return \"I'm not sure how to respond to that. Could you rephrase that?\"\n",
    "\n",
    "def chat():\n",
    "    \"\"\"Main chatbot function\"\"\"\n",
    "    print(\"Chatbot: Hello! I'm your friendly chatbot. Type 'exit' to end the conversation.\")\n",
    "    while True:\n",
    "        user_input = input(\"You: \").strip()\n",
    "        if user_input.lower() == \"exit\":\n",
    "            print(\"Chatbot: Goodbye! Have a great day!\")\n",
    "            break\n",
    "        response = get_response(user_input)\n",
    "        print(f\"Chatbot: {response}\")\n",
    "\n",
    "if __name__ == \"__main__\":\n",
    "    chat()"
   ]
  },
  {
   "cell_type": "code",
   "execution_count": null,
   "metadata": {},
   "outputs": [],
   "source": []
  }
 ],
 "metadata": {
  "kernelspec": {
   "display_name": "Python 3",
   "language": "python",
   "name": "python3"
  },
  "language_info": {
   "codemirror_mode": {
    "name": "ipython",
    "version": 3
   },
   "file_extension": ".py",
   "mimetype": "text/x-python",
   "name": "python",
   "nbconvert_exporter": "python",
   "pygments_lexer": "ipython3",
   "version": "3.13.2"
  }
 },
 "nbformat": 4,
 "nbformat_minor": 2
}
